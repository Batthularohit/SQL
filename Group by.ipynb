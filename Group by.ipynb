{
 "cells": [
  {
   "cell_type": "code",
   "execution_count": null,
   "id": "8066e599",
   "metadata": {},
   "outputs": [],
   "source": [
    "User Activity for the Past 30 Days I\n",
    "\n",
    "Write an SQL query to find the daily active user count for a period of 30 days ending 2019-07-27 inclusively.\n",
    "A user was active on someday if they made at least one activity on that day.\n",
    "\n",
    "Return the result table in any order.\n",
    "\n",
    "Input: \n",
    "Activity table:\n",
    "+---------+------------+---------------+---------------+\n",
    "| user_id | session_id | activity_date | activity_type |\n",
    "+---------+------------+---------------+---------------+\n",
    "| 1       | 1          | 2019-07-20    | open_session  |\n",
    "| 1       | 1          | 2019-07-20    | scroll_down   |\n",
    "| 1       | 1          | 2019-07-20    | end_session   |\n",
    "| 2       | 4          | 2019-07-20    | open_session  |\n",
    "| 2       | 4          | 2019-07-21    | send_message  |\n",
    "| 2       | 4          | 2019-07-21    | end_session   |\n",
    "| 3       | 2          | 2019-07-21    | open_session  |\n",
    "| 3       | 2          | 2019-07-21    | send_message  |\n",
    "| 3       | 2          | 2019-07-21    | end_session   |\n",
    "| 4       | 3          | 2019-06-25    | open_session  |\n",
    "| 4       | 3          | 2019-06-25    | end_session   |\n",
    "+---------+------------+---------------+---------------+\n",
    "Output: \n",
    "+------------+--------------+ \n",
    "| day        | active_users |\n",
    "+------------+--------------+ \n",
    "| 2019-07-20 | 2            |\n",
    "| 2019-07-21 | 2            |\n",
    "+------------+--------------+ \n",
    "Explanation: Note that we do not care about days with zero active users."
   ]
  },
  {
   "cell_type": "code",
   "execution_count": null,
   "id": "896248e0",
   "metadata": {},
   "outputs": [],
   "source": [
    "select activity_date as day, count(distinct user_id) as active_users\n",
    "from Activity\n",
    "group by activity_date\n",
    "having activity_date between '2019-06-28' and '2019-07-28'"
   ]
  },
  {
   "cell_type": "code",
   "execution_count": null,
   "id": "7b30b5d9",
   "metadata": {},
   "outputs": [],
   "source": []
  },
  {
   "cell_type": "code",
   "execution_count": null,
   "id": "927d64b3",
   "metadata": {},
   "outputs": [],
   "source": [
    "Daily Leads and Partners\n",
    "\n",
    "Write an SQL query that will, for each date_id and make_name, return the number of distinct lead_id's and distinct partner_id's.\n",
    "\n",
    "Return the result table in any order.\n",
    "\n",
    "Input: \n",
    "DailySales table:\n",
    "+-----------+-----------+---------+------------+\n",
    "| date_id   | make_name | lead_id | partner_id |\n",
    "+-----------+-----------+---------+------------+\n",
    "| 2020-12-8 | toyota    | 0       | 1          |\n",
    "| 2020-12-8 | toyota    | 1       | 0          |\n",
    "| 2020-12-8 | toyota    | 1       | 2          |\n",
    "| 2020-12-7 | toyota    | 0       | 2          |\n",
    "| 2020-12-7 | toyota    | 0       | 1          |\n",
    "| 2020-12-8 | honda     | 1       | 2          |\n",
    "| 2020-12-8 | honda     | 2       | 1          |\n",
    "| 2020-12-7 | honda     | 0       | 1          |\n",
    "| 2020-12-7 | honda     | 1       | 2          |\n",
    "| 2020-12-7 | honda     | 2       | 1          |\n",
    "+-----------+-----------+---------+------------+\n",
    "Output: \n",
    "+-----------+-----------+--------------+-----------------+\n",
    "| date_id   | make_name | unique_leads | unique_partners |\n",
    "+-----------+-----------+--------------+-----------------+\n",
    "| 2020-12-8 | toyota    | 2            | 3               |\n",
    "| 2020-12-7 | toyota    | 1            | 2               |\n",
    "| 2020-12-8 | honda     | 2            | 2               |\n",
    "| 2020-12-7 | honda     | 3            | 2               |\n",
    "+-----------+-----------+--------------+-----------------+\n",
    "Explanation: \n",
    "For 2020-12-8, toyota gets leads = [0, 1] and partners = [0, 1, 2] while honda gets leads = [1, 2] and partners = [1, 2].\n",
    "For 2020-12-7, toyota gets leads = [0] and partners = [1, 2] while honda gets leads = [0, 1, 2] and partners = [1, 2]."
   ]
  },
  {
   "cell_type": "code",
   "execution_count": null,
   "id": "1a066c31",
   "metadata": {},
   "outputs": [],
   "source": [
    "select date_id,make_name , count(distinct lead_id) as unique_leads   , count(distinct partner_id) as unique_partners \n",
    "from DailySales \n",
    "group by date_id,make_name;"
   ]
  },
  {
   "cell_type": "code",
   "execution_count": null,
   "id": "491b6efc",
   "metadata": {},
   "outputs": [],
   "source": []
  },
  {
   "cell_type": "code",
   "execution_count": null,
   "id": "f701731d",
   "metadata": {},
   "outputs": [],
   "source": [
    "Find Followers Count\n",
    "\n",
    "Write an SQL query that will, for each user, return the number of followers.\n",
    "\n",
    "Return the result table ordered by user_id in ascending order.\n",
    "\n",
    "The query result format is in the following example.\n",
    "\n",
    " Input: \n",
    "Followers table:\n",
    "+---------+-------------+\n",
    "| user_id | follower_id |\n",
    "+---------+-------------+\n",
    "| 0       | 1           |\n",
    "| 1       | 0           |\n",
    "| 2       | 0           |\n",
    "| 2       | 1           |\n",
    "+---------+-------------+\n",
    "Output: \n",
    "+---------+----------------+\n",
    "| user_id | followers_count|\n",
    "+---------+----------------+\n",
    "| 0       | 1              |\n",
    "| 1       | 1              |\n",
    "| 2       | 2              |\n",
    "+---------+----------------+\n",
    "Explanation: \n",
    "The followers of 0 are {1}\n",
    "The followers of 1 are {0}\n",
    "The followers of 2 are {0,1}"
   ]
  },
  {
   "cell_type": "code",
   "execution_count": null,
   "id": "164c6474",
   "metadata": {},
   "outputs": [],
   "source": [
    "# Write your MySQL query statement below\n",
    "select user_id, count(follower_id) as followers_count\n",
    "from Followers \n",
    "group by user_id\n",
    "order by user_id ;"
   ]
  }
 ],
 "metadata": {
  "kernelspec": {
   "display_name": "Python 3 (ipykernel)",
   "language": "python",
   "name": "python3"
  },
  "language_info": {
   "codemirror_mode": {
    "name": "ipython",
    "version": 3
   },
   "file_extension": ".py",
   "mimetype": "text/x-python",
   "name": "python",
   "nbconvert_exporter": "python",
   "pygments_lexer": "ipython3",
   "version": "3.9.7"
  }
 },
 "nbformat": 4,
 "nbformat_minor": 5
}
